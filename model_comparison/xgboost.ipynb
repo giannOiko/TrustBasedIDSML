{
 "cells": [
  {
   "cell_type": "code",
   "execution_count": 16,
   "metadata": {},
   "outputs": [],
   "source": [
    "import pandas as pd\n",
    "import numpy as np\n",
    "import matplotlib.pyplot as plt\n",
    "import seaborn as sns\n",
    "import pickle\n",
    "import warnings\n",
    "\n",
    "from sklearn.model_selection import cross_validate\n",
    "from sklearn.model_selection import StratifiedKFold\n",
    "from sklearn.model_selection import train_test_split\n",
    "from sklearn.svm import LinearSVC, SVC, OneClassSVM\n",
    "from sklearn.preprocessing import MinMaxScaler, StandardScaler, RobustScaler, QuantileTransformer, FunctionTransformer, PowerTransformer\n",
    "from sklearn.pipeline import Pipeline\n",
    "from sklearn.metrics import f1_score, precision_score, recall_score,confusion_matrix"
   ]
  },
  {
   "cell_type": "code",
   "execution_count": 18,
   "metadata": {},
   "outputs": [],
   "source": [
    "df = pd.read_csv('mirai3.csv', header=None)\n",
    "labels = [1] * 71000 + [-1] * 29000\n",
    "df['label'] = labels"
   ]
  },
  {
   "cell_type": "code",
   "execution_count": 4,
   "metadata": {},
   "outputs": [],
   "source": [
    "X = df.drop('label' , axis = 1)\n",
    "y = df['label']"
   ]
  },
  {
   "cell_type": "code",
   "execution_count": 19,
   "metadata": {},
   "outputs": [
    {
     "name": "stdout",
     "output_type": "stream",
     "text": [
      "[LightGBM] [Info] Number of positive: 35500, number of negative: 14500\n",
      "[LightGBM] [Info] Auto-choosing col-wise multi-threading, the overhead of testing was 0.009038 seconds.\n",
      "You can set `force_col_wise=true` to remove the overhead.\n",
      "[LightGBM] [Info] Total Bins 29030\n",
      "[LightGBM] [Info] Number of data points in the train set: 50000, number of used features: 115\n",
      "[LightGBM] [Info] [binary:BoostFromScore]: pavg=0.710000 -> initscore=0.895384\n",
      "[LightGBM] [Info] Start training from score 0.895384\n",
      " f1 0.9987195813337367\n",
      " precision 0.9987201568039102\n",
      " recall 0.99872\n",
      " \n",
      "benign f1 0.9990989976348688\n",
      "benign precision 0.9986491050320837\n",
      "benign recall 0.9995492957746479\n",
      " \n",
      "malicious f1 0.9977906655619995\n",
      "malicious precision 0.9988941111418302\n",
      "malicious recall 0.9966896551724138\n"
     ]
    },
    {
     "data": {
      "text/plain": [
       "(None, 0.9987195813337367)"
      ]
     },
     "execution_count": 19,
     "metadata": {},
     "output_type": "execute_result"
    }
   ],
   "source": [
    "from lightgbm import LGBMClassifier\n",
    "\n",
    "model = LGBMClassifier(objective='binary')\n",
    "\"\"\" X_train = pd.concat([X.iloc[5000:55000] , X.iloc[71000:81000]])\n",
    "X_test = pd.concat([X.iloc[55000:71000] , X.iloc[81000:]])\n",
    "y_train = y.iloc[X_train.index]\n",
    "y_test = y.iloc[X_test.index] \"\"\"\n",
    "\n",
    "X_train, X_test, y_train, y_test = train_test_split(X, y, test_size=0.5, random_state=42,stratify = y)\n",
    "\n",
    "\n",
    "model.fit(X_train, y_train)\n",
    "y_pred = model.predict(X_test)\n",
    "f1_score(y_test,y_pred,average = 'weighted') \n"
   ]
  },
  {
   "cell_type": "markdown",
   "metadata": {},
   "source": [
    "WOW, what a score.. now i need to pass the same testing set to OcSVM and then to Kitsune.."
   ]
  },
  {
   "cell_type": "markdown",
   "metadata": {},
   "source": [
    "The later are outlier detection methods.. they do not need to see the negative class for them to decide. And thats an advantage "
   ]
  },
  {
   "cell_type": "markdown",
   "metadata": {},
   "source": [
    "We're proceeding with lightgbm for the golang implementation.. 0.99(LOL) vs 0.9655(Kitsune) vs 0.9377(OcSVM)"
   ]
  },
  {
   "cell_type": "markdown",
   "metadata": {},
   "source": [
    "This analysis is only for comparison with the outlier detection methods"
   ]
  },
  {
   "cell_type": "markdown",
   "metadata": {},
   "source": [
    "There is further analysis on timeseries.ipynb where i see crossval score for lightgbm and the results are far from the ones displayed here"
   ]
  },
  {
   "cell_type": "markdown",
   "metadata": {},
   "source": [
    "So i treat dataset as timeseries (which it is) and do some feature engineering"
   ]
  },
  {
   "cell_type": "code",
   "execution_count": 21,
   "metadata": {},
   "outputs": [
    {
     "data": {
      "text/plain": [
       "(label\n",
       "  1    35500\n",
       " -1    14500\n",
       " Name: count, dtype: int64,\n",
       " label\n",
       "  1    35500\n",
       " -1    14500\n",
       " Name: count, dtype: int64)"
      ]
     },
     "execution_count": 21,
     "metadata": {},
     "output_type": "execute_result"
    }
   ],
   "source": [
    "y_train.value_counts(),y_test.value_counts()"
   ]
  },
  {
   "cell_type": "markdown",
   "metadata": {},
   "source": [
    "Dump in pickle files so i can read them from other notebooks."
   ]
  },
  {
   "cell_type": "code",
   "execution_count": 20,
   "metadata": {},
   "outputs": [],
   "source": [
    "with open(\"X_train.pkl\", \"wb\") as f:\n",
    "    pickle.dump(X_train,f)\n",
    "\n",
    "with open(\"X_test.pkl\", \"wb\") as f:\n",
    "    pickle.dump(X_test,f)\n",
    "\n",
    "with open(\"y_test.pkl\", \"wb\") as f:\n",
    "    pickle.dump(y_test,f)\n",
    "\n",
    "with open(\"y_train.pkl\", \"wb\") as f:\n",
    "    pickle.dump(y_train,f)"
   ]
  },
  {
   "cell_type": "markdown",
   "metadata": {},
   "source": [
    "Dump in json for parsing in Golang"
   ]
  },
  {
   "cell_type": "code",
   "execution_count": 6,
   "metadata": {},
   "outputs": [],
   "source": [
    "\n",
    "import json\n",
    "booster = model.booster_\n",
    "model_dump = booster.dump_model()\n",
    "\n",
    "# Save the model in JSON format\n",
    "with open('lightgbm_model.json', 'w') as f:\n",
    "    json.dump(model_dump, f)"
   ]
  }
 ],
 "metadata": {
  "kernelspec": {
   "display_name": "Python 3",
   "language": "python",
   "name": "python3"
  },
  "language_info": {
   "codemirror_mode": {
    "name": "ipython",
    "version": 3
   },
   "file_extension": ".py",
   "mimetype": "text/x-python",
   "name": "python",
   "nbconvert_exporter": "python",
   "pygments_lexer": "ipython3",
   "version": "3.8.10"
  }
 },
 "nbformat": 4,
 "nbformat_minor": 2
}
