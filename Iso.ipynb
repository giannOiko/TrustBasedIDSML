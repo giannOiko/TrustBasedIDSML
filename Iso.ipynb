{
 "cells": [
  {
   "cell_type": "code",
   "execution_count": 40,
   "metadata": {},
   "outputs": [],
   "source": [
    "import (\"github.com/e-XpertSolutions/go-iforest/iforest\"\n",
    "\t\t\"bufio\"\n",
    "\t\t\"encoding/csv\"\n",
    "\t\t\"strconv\"\n",
    "\t\t\"github.com/janpfeifer/gonb/gonbui\"\n",
    "\t\t\"gonum.org/v1/plot/plotutil\"\n",
    "\t\t\"gonum.org/v1/plot\"\n",
    "\t\t\"gonum.org/v1/plot/plotter\"\n",
    "\t\t\"gonum.org/v1/plot/vg\"\n",
    "\t\t\"gonum.org/v1/plot/vg/draw\"\n",
    "\t\t\"os/exec\"\n",
    "\t\t\"github.com/janpfeifer/gonb/cache\"\n",
    "\n",
    "\t)\n",
    "\n",
    "\t"
   ]
  },
  {
   "cell_type": "markdown",
   "metadata": {},
   "source": [
    "# UTILITIES"
   ]
  },
  {
   "cell_type": "code",
   "execution_count": 41,
   "metadata": {},
   "outputs": [],
   "source": [
    "\n",
    "\n",
    "//load file Data and Return [][]float64 array\n",
    "func loadData(myfile string) [][]float64 {\n",
    "\n",
    "\tl:=false\n",
    "file, err := os.Open(myfile)\n",
    "\tif err != nil {\n",
    "\t\tfmt.Println(\"Error opening file:\", err)\n",
    "\t\treturn nil\n",
    "\t}\n",
    "\tdefer file.Close()\n",
    "\n",
    "\treader := csv.NewReader(file)\n",
    "\trecords, err := reader.ReadAll()\n",
    "\tif err != nil {\n",
    "\t\tfmt.Println(\"Error reading CSV:\", err)\n",
    "\t\treturn nil\n",
    "\t}\n",
    "\t\n",
    "\tinputData := make([][]float64, len(records))\n",
    "\tfor i, row := range records {\n",
    "\n",
    "\t\tinputData[i] = make([]float64, len(row))\n",
    "\t\tfor j, value := range row {\n",
    "\t\t\tinputData[i][j], err = strconv.ParseFloat(value, 64)\n",
    "\t\t\tif err != nil {\n",
    "\t\t\t\tfmt.Printf(\"Error converting to float: line %d\",i)\n",
    "\t\t\t\tl=true\n",
    "\t\t\t\tbreak\t\n",
    "\t\t\t}\n",
    "\t\t}\n",
    "\t\tif l == true{\n",
    "\t\t\tbreak\n",
    "\t\t}\n",
    "\t}\n",
    "\treturn inputData\n",
    "}\n",
    "// Compare algorithm results with data extracted from original file\n",
    "func compareResults(labels []int){\n",
    "\n",
    "\tcount :=0\n",
    "\tline :=0\n",
    "\t// Open the CSV file\n",
    "\tfilePath := \"labels.csv\"\n",
    "\n",
    "\t// Open the file\n",
    "\tfile, err := os.Open(filePath)\n",
    "\tif err != nil {\n",
    "\t\tfmt.Println(\"Error opening file:\", err)\n",
    "\t\treturn\n",
    "\t}\n",
    "\tdefer file.Close()\n",
    "\n",
    "\t// Create a new scanner\n",
    "\tscanner := bufio.NewScanner(file)\n",
    "\n",
    "\t// Read and process each line\n",
    "\tfor scanner.Scan() {\n",
    "\t\tif scanner.Text()== \"benign\" && labels[line] ==0{\n",
    "\t\t\tcount++\n",
    "\t\t\tline++\n",
    "\t\t}else if scanner.Text()== \"malignant\" && labels[line] ==1{\n",
    "\t\t\tcount++\n",
    "\t\t\tline++\n",
    "\t\t}else if scanner.Text()== \"outlier\" && labels[line] ==1{\n",
    "\t\t\tcount++\n",
    "\t\t\tline++\n",
    "\t\t}else{\n",
    "\t\t\tline++\n",
    "\t\t}\n",
    "\t}\n",
    "\n",
    "\taccuracy := float64(count) / float64(line) * 100.0\n",
    "\tfmt.Printf(\"%d lines of which %d acurrate\\n\",line,count)\n",
    "\n",
    "    fmt.Printf(\"Percentage of Accuracy is %.2f%%\\n\", accuracy)\n",
    "\t\n",
    "}\n",
    "// call command line executable\n",
    "func prepareDataset(dataset string){\n",
    "\tcmd :=exec.Command(\"./extractDataset.sh\", dataset)\n",
    "\tcmd.Run()\n",
    "}\n",
    "\n"
   ]
  },
  {
   "cell_type": "markdown",
   "metadata": {},
   "source": [
    "# Iso Forest Algorithm"
   ]
  },
  {
   "cell_type": "code",
   "execution_count": 42,
   "metadata": {},
   "outputs": [],
   "source": [
    "//Isolation Forest algorithm\n",
    "\n",
    "func isoForestTrain_Test(dataset string, treesNumber int, subsampleSize int, outliers float64) *iforest.Forest{\n",
    "//model initialization\n",
    "forest := iforest.NewForest(treesNumber, subsampleSize, outliers)\n",
    "\n",
    "prepareDataset(dataset)\n",
    "//training stage - creating trees\n",
    "inputData := loadData(\"dataset.csv\")\n",
    "forest.Train(inputData)\n",
    "\n",
    "//testing stage - finding anomalies \n",
    "forest.Test(inputData)\n",
    "\n",
    "threshold := forest.AnomalyBound\n",
    "labels := forest.Labels\n",
    "//fmt.Println(\"labels is\", labels)\n",
    "fmt.Println(\"threshold is\",threshold)\n",
    "\n",
    "\n",
    "compareResults(labels)\n",
    "\n",
    "return forest;\n",
    "}\n"
   ]
  },
  {
   "cell_type": "markdown",
   "metadata": {},
   "source": [
    "# Predict function"
   ]
  },
  {
   "cell_type": "code",
   "execution_count": 43,
   "metadata": {},
   "outputs": [],
   "source": [
    "func predict(forest * iforest.Forest, dataset string){\n",
    "\n",
    "\tprepareDataset(dataset)\n",
    "\tnewData := loadData(\"dataset.csv\")\n",
    "\tlabels1,_ ,_ := forest.Predict(newData)\n",
    "\t// compare results with original file\n",
    "\tcompareResults(labels1)\n",
    "\t}"
   ]
  },
  {
   "cell_type": "code",
   "execution_count": 46,
   "metadata": {},
   "outputs": [
    {
     "name": "stdout",
     "output_type": "stream",
     "text": [
      "10.244770920116851\n",
      "threshold is 0.03719914579244621\n",
      "4204081 lines of which 3635765 acurrate\n",
      "Percentage of Accuracy is 86.48%\n"
     ]
    }
   ],
   "source": [
    "var forest = cache.Cache(\"my_forest\", func() * iforest.Forest {return isoForestTrain_Test(\"2020.06.22.csv\",100,256,0.14)})"
   ]
  },
  {
   "cell_type": "code",
   "execution_count": 45,
   "metadata": {},
   "outputs": [],
   "source": [
    "%%\n",
    "// reset \n",
    "cache.ResetKey(\"my_forest\")"
   ]
  },
  {
   "cell_type": "code",
   "execution_count": 47,
   "metadata": {},
   "outputs": [
    {
     "name": "stdout",
     "output_type": "stream",
     "text": [
      "814816 lines of which 402914 acurrate\n",
      "Percentage of Accuracy is 49.45%\n"
     ]
    }
   ],
   "source": [
    "%%\n",
    "predict(forest,\"2020.06.21.csv\")"
   ]
  },
  {
   "cell_type": "code",
   "execution_count": null,
   "metadata": {},
   "outputs": [],
   "source": []
  }
 ],
 "metadata": {
  "kernelspec": {
   "display_name": "Go (gonb)",
   "language": "go",
   "name": "gonb"
  },
  "language_info": {
   "codemirror_mode": "",
   "file_extension": ".go",
   "mimetype": "",
   "name": "go",
   "nbconvert_exporter": "",
   "pygments_lexer": "",
   "version": "go1.21.5"
  }
 },
 "nbformat": 4,
 "nbformat_minor": 2
}
